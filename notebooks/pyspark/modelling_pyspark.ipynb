{
 "cells": [
  {
   "cell_type": "markdown",
   "metadata": {
    "heading_collapsed": true
   },
   "source": [
    "### Modules"
   ]
  },
  {
   "cell_type": "code",
   "execution_count": 1,
   "metadata": {
    "hidden": true
   },
   "outputs": [
    {
     "name": "stdout",
     "output_type": "stream",
     "text": [
      "Populating the interactive namespace from numpy and matplotlib\n"
     ]
    }
   ],
   "source": [
    "import pandas as pd\n",
    "import numpy as np\n",
    "\n",
    "import matplotlib.pyplot as plt \n",
    "import seaborn as sns\n",
    "\n",
    "import warnings\n",
    "import requests, os, sys\n",
    "from io import StringIO\n",
    "import pyspark\n",
    "import math\n",
    "from pyspark.sql import Row\n",
    "from pyspark.sql import SQLContext\n",
    "from pyspark.sql.functions import udf\n",
    "from pyspark.sql.functions import col\n",
    "from pyspark.ml.feature import VectorAssembler\n",
    "from pyspark.ml.feature import MinMaxScaler\n",
    "from pyspark.ml.classification import DecisionTreeClassifier, RandomForestClassifier, \\\n",
    "                                      GBTClassifier, LogisticRegression, NaiveBayes\n",
    "from pyspark.ml.evaluation import BinaryClassificationEvaluator, \\\n",
    "                                  MulticlassClassificationEvaluator\n",
    "from pyspark.ml import Pipeline\n",
    "from pyspark.ml.tuning import ParamGridBuilder, CrossValidator\n",
    "from pyspark.mllib.evaluation import BinaryClassificationMetrics, \\\n",
    "                                     MulticlassMetrics\n",
    "from pyspark.sql.window import Window\n",
    "\n",
    "from pyspark.sql.types import DoubleType\n",
    "\n",
    "from pyspark.sql.types import *\n",
    "\n",
    "warnings.filterwarnings('ignore')\n",
    "\n",
    "%pylab inline"
   ]
  },
  {
   "cell_type": "markdown",
   "metadata": {
    "heading_collapsed": true
   },
   "source": [
    "# Data"
   ]
  },
  {
   "cell_type": "markdown",
   "metadata": {
    "heading_collapsed": true,
    "hidden": true
   },
   "source": [
    "### Data"
   ]
  },
  {
   "cell_type": "code",
   "execution_count": 2,
   "metadata": {
    "hidden": true
   },
   "outputs": [],
   "source": [
    "# connecting to spark\n",
    "spark = pyspark.sql.SparkSession.builder.getOrCreate()"
   ]
  },
  {
   "cell_type": "code",
   "execution_count": 3,
   "metadata": {
    "hidden": true
   },
   "outputs": [
    {
     "name": "stdout",
     "output_type": "stream",
     "text": [
      "root\n",
      " |-- address: string (nullable = true)\n",
      " |-- year: integer (nullable = true)\n",
      " |-- day: integer (nullable = true)\n",
      " |-- length: integer (nullable = true)\n",
      " |-- weight: double (nullable = true)\n",
      " |-- count: integer (nullable = true)\n",
      " |-- looped: integer (nullable = true)\n",
      " |-- neighbors: integer (nullable = true)\n",
      " |-- income: decimal(14,0) (nullable = true)\n",
      " |-- ransomware: string (nullable = true)\n",
      "\n"
     ]
    }
   ],
   "source": [
    "# call data and create dataframe\n",
    "path = '../../data/external/BitcoinHeistData.csv'\n",
    "\n",
    "raw_df = spark.read.csv(path, sep=',', inferSchema=True, header=True)\n",
    "\n",
    "# rename label column\n",
    "raw_df = raw_df.withColumnRenamed('label', 'ransomware')\n",
    "\n",
    "# register table so we can use SQL\n",
    "raw_df.registerTempTable('raw_df')\n",
    "\n",
    "raw_df.printSchema()"
   ]
  },
  {
   "cell_type": "markdown",
   "metadata": {
    "heading_collapsed": true,
    "hidden": true
   },
   "source": [
    "### Label data"
   ]
  },
  {
   "cell_type": "code",
   "execution_count": 4,
   "metadata": {
    "hidden": true
   },
   "outputs": [
    {
     "data": {
      "text/plain": [
       "['paduaJigsaw',\n",
       " 'montrealXLockerv5.0',\n",
       " 'montrealJigSaw',\n",
       " 'montrealCryptoTorLocker2015',\n",
       " 'montrealXTPLocker',\n",
       " 'montrealAPT',\n",
       " 'montrealRazy',\n",
       " 'white',\n",
       " 'montrealNoobCrypt',\n",
       " 'princetonCerber',\n",
       " 'montrealEDA2',\n",
       " 'paduaCryptoWall',\n",
       " 'montrealGlobeImposter',\n",
       " 'montrealCryptConsole',\n",
       " 'montrealSamSam',\n",
       " 'montrealSam',\n",
       " 'montrealDMALockerv3',\n",
       " 'montrealXLocker',\n",
       " 'montrealVenusLocker',\n",
       " 'montrealCryptoLocker',\n",
       " 'montrealGlobe',\n",
       " 'montrealFlyper',\n",
       " 'montrealDMALocker',\n",
       " 'princetonLocky',\n",
       " 'montrealCryptXXX',\n",
       " 'paduaKeRanger',\n",
       " 'montrealWannaCry',\n",
       " 'montrealComradeCircle',\n",
       " 'montrealGlobev3']"
      ]
     },
     "execution_count": 4,
     "metadata": {},
     "output_type": "execute_result"
    }
   ],
   "source": [
    "# make ransomware types into dataframe\n",
    "ransomware_types = spark.sql(r\"\"\"SELECT distinct ransomware \n",
    "                                 FROM raw_df\"\"\")\n",
    "\n",
    "# make ransomware types into a list\n",
    "ransomware_list = [obj.ransomware for obj in ransomware_types.select(\"ransomware\").collect()]\n",
    "\n",
    "ransomware_list"
   ]
  },
  {
   "cell_type": "code",
   "execution_count": 5,
   "metadata": {
    "hidden": true
   },
   "outputs": [],
   "source": [
    "## SELECT RANSOMWARE TYPES FOR LABEL HERE\n",
    "ransomware_label = [\n",
    "                    'paduaJigsaw',\n",
    "                    'montrealXLockerv5.0',\n",
    "                    'montrealJigSaw',\n",
    "                    'montrealCryptoTorLocker2015',\n",
    "                    'montrealXTPLocker',\n",
    "                    'montrealAPT',\n",
    "                    'montrealRazy',\n",
    "                    'montrealNoobCrypt',\n",
    "                    'princetonCerber',\n",
    "                    'montrealEDA2',\n",
    "                    'paduaCryptoWall',\n",
    "                    'montrealGlobeImposter',\n",
    "                    'montrealCryptConsole',\n",
    "                    'montrealSamSam',\n",
    "                    'montrealSam',\n",
    "                    'montrealDMALockerv3',\n",
    "                    'montrealXLocker',\n",
    "                    'montrealVenusLocker',\n",
    "                    'montrealCryptoLocker',\n",
    "                    'montrealGlobe',\n",
    "                    'montrealFlyper',\n",
    "                    'montrealDMALocker',\n",
    "                    'princetonLocky',\n",
    "                    'montrealCryptXXX',\n",
    "                    'paduaKeRanger',\n",
    "                    'montrealWannaCry',\n",
    "                    'montrealComradeCircle',\n",
    "                    'montrealGlobev3'\n",
    "                   ]\n",
    "\n",
    "# a function to add label to dataframe\n",
    "def add_label(value):\n",
    "    if value in ransomware_label:\n",
    "        return 1\n",
    "    else:\n",
    "        return 0"
   ]
  },
  {
   "cell_type": "code",
   "execution_count": 6,
   "metadata": {
    "hidden": true
   },
   "outputs": [
    {
     "name": "stdout",
     "output_type": "stream",
     "text": [
      "+--------------------+----+---+------+-------------------+-----+------+---------+---------+---------------+-----+\n",
      "|             address|year|day|length|             weight|count|looped|neighbors|   income|     ransomware|label|\n",
      "+--------------------+----+---+------+-------------------+-----+------+---------+---------+---------------+-----+\n",
      "|111K8kZAEnJg245r2...|2017| 11|    18|0.00833333333333333|    1|     0|        2|100050000|princetonCerber|    1|\n",
      "|1123pJv8jzeFQaCV4...|2016|132|    44|      2.44140625E-4|    1|     0|        1|100000000| princetonLocky|    1|\n",
      "|112536im7hy6wtKbp...|2016|246|     0|                1.0|    1|     0|        2|200000000|princetonCerber|    1|\n",
      "|1126eDRw2wqSkWosj...|2016|322|    72|         0.00390625|    1|     0|        2| 71200000|princetonCerber|    1|\n",
      "|1129TSjKtx65E35Gi...|2016|238|   144| 0.0728484071989931|  456|     0|        1|200000000| princetonLocky|    1|\n",
      "+--------------------+----+---+------+-------------------+-----+------+---------+---------+---------------+-----+\n",
      "only showing top 5 rows\n",
      "\n"
     ]
    }
   ],
   "source": [
    "# add label to dataframe\n",
    "udfValueToLabel = udf(add_label, StringType())\n",
    "\n",
    "df = raw_df.withColumn(\"label\", udfValueToLabel(\"ransomware\"))\n",
    "\n",
    "# register table so we can use SQL\n",
    "df.registerTempTable('df')\n",
    "\n",
    "df.show(5)"
   ]
  },
  {
   "cell_type": "markdown",
   "metadata": {
    "heading_collapsed": true,
    "hidden": true
   },
   "source": [
    "### Splitting data"
   ]
  },
  {
   "cell_type": "code",
   "execution_count": 7,
   "metadata": {
    "hidden": true
   },
   "outputs": [
    {
     "data": {
      "text/plain": [
       "(2916697, 11)"
      ]
     },
     "execution_count": 7,
     "metadata": {},
     "output_type": "execute_result"
    }
   ],
   "source": [
    "# the shape of the dataframe\n",
    "df.count(), len(df.columns)"
   ]
  },
  {
   "cell_type": "code",
   "execution_count": 8,
   "metadata": {
    "hidden": true
   },
   "outputs": [],
   "source": [
    "# SET TEST SIZE HERE\n",
    "test_size = 0.2\n",
    "train_size = int(df.count()*(1-test_size))\n",
    "\n",
    "# in the below code we order by date and add an id column\n",
    "\n",
    "# split off unbalanced training data (we will balance this later)\n",
    "unbalanced_train_df = spark.sql(f\"\"\"SELECT *\n",
    "                                      FROM\n",
    "                                      (SELECT ROW_NUMBER() OVER (ORDER BY year ASC, day ASC) AS pay_id, *\n",
    "                                       FROM df)\n",
    "                                      WHERE pay_id<={train_size}\"\"\")\n",
    "\n",
    "# register table so we can use SQL\n",
    "unbalanced_train_df.registerTempTable('unbalanced_train_df')\n",
    "\n",
    "# split off test data (keep this unbalanced so it represents reality)\n",
    "unbalanced_test_df = spark.sql(f\"\"\"SELECT *\n",
    "                                  FROM\n",
    "                                  (SELECT ROW_NUMBER() OVER (ORDER BY year ASC, day ASC) AS pay_id, *\n",
    "                                   FROM df)\n",
    "                                  WHERE pay_id>{train_size}\"\"\")\n",
    "\n",
    "# register table so we can use SQL\n",
    "unbalanced_test_df.registerTempTable('unbalanced_test_df')"
   ]
  },
  {
   "cell_type": "markdown",
   "metadata": {
    "heading_collapsed": true,
    "hidden": true
   },
   "source": [
    "### Balance training data\n",
    "We want this to be 50/50"
   ]
  },
  {
   "cell_type": "code",
   "execution_count": 9,
   "metadata": {
    "hidden": true
   },
   "outputs": [
    {
     "name": "stdout",
     "output_type": "stream",
     "text": [
      "+-----+-------+------------------+\n",
      "|label|  count|           percent|\n",
      "+-----+-------+------------------+\n",
      "|    0|2292932| 98.26751757232176|\n",
      "|    1|  40425|1.7324824276782336|\n",
      "+-----+-------+------------------+\n",
      "\n"
     ]
    }
   ],
   "source": [
    "label_count = unbalanced_train_df.groupBy('label').count()\n",
    "label_count.withColumn('percent', label_count['count']/unbalanced_train_df.count() * 100).show()"
   ]
  },
  {
   "cell_type": "code",
   "execution_count": 10,
   "metadata": {
    "hidden": true
   },
   "outputs": [],
   "source": [
    "# isolating rows with label=0 \n",
    "white_train_df = unbalanced_train_df[unbalanced_train_df.label == 0]\n",
    "\n",
    "# isolating rows with label=1\n",
    "ransom_train_df = unbalanced_train_df[unbalanced_train_df.label == 1]\n",
    "\n",
    "# register table so we can use SQL\n",
    "ransom_train_df.registerTempTable('ransom_train_df')\n",
    "\n",
    "# sample label=0 rows to equal label=1 rows\n",
    "white_train_sample_size = ransom_train_df.count()\n",
    "white_train_sample_pct = ransom_train_df.count()/white_train_df.count()\n",
    "reduced_white_train_df = (white_train_df.sample(False, white_train_sample_pct*1.1, seed=4)\n",
    "                                        .limit(white_train_sample_size))\n",
    "\n",
    "# register table so we can use SQL\n",
    "reduced_white_train_df.registerTempTable('reduced_white_train_df')"
   ]
  },
  {
   "cell_type": "code",
   "execution_count": 11,
   "metadata": {
    "hidden": true
   },
   "outputs": [],
   "source": [
    "# concatenate to create balanced training data\n",
    "train_df = spark.sql(r\"\"\"SELECT *\n",
    "                          FROM ransom_train_df\n",
    "                          UNION\n",
    "                          SELECT *\n",
    "                          FROM reduced_white_train_df\n",
    "                          ORDER BY pay_id ASC\"\"\")\n",
    "\n",
    "# register table so we can use SQL\n",
    "train_df.registerTempTable('train_df')"
   ]
  },
  {
   "cell_type": "code",
   "execution_count": 12,
   "metadata": {
    "hidden": true
   },
   "outputs": [
    {
     "name": "stdout",
     "output_type": "stream",
     "text": [
      "+-----+-----+-------+\n",
      "|label|count|percent|\n",
      "+-----+-----+-------+\n",
      "|    0|40425|   50.0|\n",
      "|    1|40425|   50.0|\n",
      "+-----+-----+-------+\n",
      "\n"
     ]
    }
   ],
   "source": [
    "label_count = train_df.groupBy('label').count()\n",
    "label_count.withColumn('percent', label_count['count']/train_df.count() * 100).show()"
   ]
  },
  {
   "cell_type": "markdown",
   "metadata": {
    "heading_collapsed": true,
    "hidden": true
   },
   "source": [
    "### Balance testing data\n",
    "We want this to be 98.58/1.42"
   ]
  },
  {
   "cell_type": "code",
   "execution_count": 13,
   "metadata": {
    "hidden": true
   },
   "outputs": [
    {
     "name": "stdout",
     "output_type": "stream",
     "text": [
      "+-----+------+------------------+\n",
      "|label| count|           percent|\n",
      "+-----+------+------------------+\n",
      "|    0|582352| 99.83063050707992|\n",
      "|    1|   988|0.1693694929200809|\n",
      "+-----+------+------------------+\n",
      "\n"
     ]
    }
   ],
   "source": [
    "label_count = unbalanced_test_df.groupBy('label').count()\n",
    "label_count.withColumn('percent', label_count['count']/unbalanced_test_df.count() * 100).show()"
   ]
  },
  {
   "cell_type": "code",
   "execution_count": 14,
   "metadata": {
    "hidden": true
   },
   "outputs": [],
   "source": [
    "# isolating rows with label=0 \n",
    "white_test_df = unbalanced_test_df[unbalanced_test_df.label == 0]\n",
    "\n",
    "# isolating rows with label=1\n",
    "ransom_test_df = unbalanced_test_df[unbalanced_test_df.label == 1]\n",
    "\n",
    "# register table so we can use SQL\n",
    "ransom_test_df.registerTempTable('ransom_test_df')\n",
    "\n",
    "# sample label=0 rows to equal label=1 rows\n",
    "white_test_sample_size = ransom_test_df.count()\n",
    "white_test_sample_pct = ransom_test_df.count()/white_test_df.count()\n",
    "reduced_white_test_df = (white_test_df.sample(False, white_test_sample_pct*70, seed=4))\n",
    "\n",
    "# register table so we can use SQL\n",
    "reduced_white_test_df.registerTempTable('reduced_white_test_df')"
   ]
  },
  {
   "cell_type": "code",
   "execution_count": 15,
   "metadata": {
    "hidden": true
   },
   "outputs": [],
   "source": [
    "# concatenate to create balanced training data\n",
    "test_df = spark.sql(r\"\"\"SELECT *\n",
    "                          FROM ransom_test_df\n",
    "                          UNION\n",
    "                          SELECT *\n",
    "                          FROM reduced_white_test_df\n",
    "                          ORDER BY pay_id ASC\"\"\")\n",
    "\n",
    "# register table so we can use SQL\n",
    "test_df.registerTempTable('test_df')"
   ]
  },
  {
   "cell_type": "code",
   "execution_count": 16,
   "metadata": {
    "hidden": true
   },
   "outputs": [
    {
     "name": "stdout",
     "output_type": "stream",
     "text": [
      "+-----+-----+------------------+\n",
      "|label|count|           percent|\n",
      "+-----+-----+------------------+\n",
      "|    0|68664| 98.58151955435595|\n",
      "|    1|  988|1.4184804456440592|\n",
      "+-----+-----+------------------+\n",
      "\n"
     ]
    }
   ],
   "source": [
    "label_count = test_df.groupBy('label').count()\n",
    "label_count.withColumn('percent', label_count['count']/test_df.count() * 100).show()"
   ]
  },
  {
   "cell_type": "markdown",
   "metadata": {
    "heading_collapsed": true,
    "hidden": true
   },
   "source": [
    "### Vectorize"
   ]
  },
  {
   "cell_type": "code",
   "execution_count": 17,
   "metadata": {
    "hidden": true
   },
   "outputs": [
    {
     "data": {
      "text/plain": [
       "(80850, 69652)"
      ]
     },
     "execution_count": 17,
     "metadata": {},
     "output_type": "execute_result"
    }
   ],
   "source": [
    "# the feature columns\n",
    "features = train_df.schema.names[3:-2]\n",
    "\n",
    "assembler = VectorAssembler(inputCols=features, outputCol='features')\n",
    "\n",
    "train_pack = assembler.transform(train_df)\n",
    "test_pack = assembler.transform(test_df)\n",
    "\n",
    "columns_to_drop = train_df.schema.names[:-1]\n",
    "for column in columns_to_drop:\n",
    "    train_pack = train_pack.drop(column)\n",
    "    test_pack = test_pack.drop(column)\n",
    "    \n",
    "train_pack.count(), test_pack.count()"
   ]
  },
  {
   "cell_type": "markdown",
   "metadata": {
    "heading_collapsed": true,
    "hidden": true
   },
   "source": [
    "### Scale"
   ]
  },
  {
   "cell_type": "code",
   "execution_count": 18,
   "metadata": {
    "hidden": true
   },
   "outputs": [],
   "source": [
    "minmaxscale = MinMaxScaler(inputCol='features', outputCol='features_scaled')\n",
    "minmaxscale = minmaxscale.fit(train_pack)\n",
    "\n",
    "train_pack = minmaxscale.transform(train_pack)\n",
    "test_pack  = minmaxscale.transform(test_pack)"
   ]
  },
  {
   "cell_type": "code",
   "execution_count": 19,
   "metadata": {
    "hidden": true
   },
   "outputs": [
    {
     "name": "stdout",
     "output_type": "stream",
     "text": [
      "+-----+--------------------+--------------------+\n",
      "|label|            features|     features_scaled|\n",
      "+-----+--------------------+--------------------+\n",
      "|    0|[1.0,2.0,0.25,1.0...|[0.0,0.0138888888...|\n",
      "|    0|[1.0,18.0,9.76562...|[0.0,0.125,1.9598...|\n",
      "|    0|[1.0,26.0,6.10351...|[0.0,0.1805555555...|\n",
      "|    0|[1.0,22.0,2.44140...|[0.0,0.1527777777...|\n",
      "|    0|[1.0,18.0,1.0,1.0...|[0.0,0.125,0.0020...|\n",
      "|    0|[1.0,18.0,0.04057...|[0.0,0.125,8.1433...|\n",
      "|    0|[1.0,24.0,1.0,1.0...|[0.0,0.1666666666...|\n",
      "|    0|[1.0,74.0,1.0,1.0...|[0.0,0.5138888888...|\n",
      "|    0|[1.0,30.0,1.52587...|[0.0,0.2083333333...|\n",
      "|    0|[1.0,16.0,0.40577...|[0.0,0.1111111111...|\n",
      "|    0|[1.0,12.0,0.00781...|[0.0,0.0833333333...|\n",
      "|    0|[2.0,4.0,0.125,1....|[0.00274725274725...|\n",
      "|    0|[2.0,0.0,1.0,1.0,...|[0.00274725274725...|\n",
      "|    0|[2.0,2.0,0.25,1.0...|[0.00274725274725...|\n",
      "|    0|[2.0,70.0,1.0,1.0...|[0.00274725274725...|\n",
      "|    0|[2.0,118.0,1.0,1....|[0.00274725274725...|\n",
      "|    0|[2.0,40.0,1.0,1.0...|[0.00274725274725...|\n",
      "|    0|[3.0,0.0,0.5,1.0,...|[0.00549450549450...|\n",
      "|    0|[3.0,2.0,0.25,1.0...|[0.00549450549450...|\n",
      "|    0|[3.0,50.0,1.0,1.0...|[0.00549450549450...|\n",
      "+-----+--------------------+--------------------+\n",
      "only showing top 20 rows\n",
      "\n"
     ]
    }
   ],
   "source": [
    "train_pack.show()"
   ]
  },
  {
   "cell_type": "markdown",
   "metadata": {
    "heading_collapsed": true,
    "hidden": true
   },
   "source": [
    "### Add polynomial features"
   ]
  },
  {
   "cell_type": "code",
   "execution_count": 20,
   "metadata": {
    "hidden": true
   },
   "outputs": [],
   "source": [
    "# # adding polynomial features\n",
    "# poly = PolynomialFeatures(degree=2) \n",
    "\n",
    "\n",
    "# # add degree two polynomials to budget\n",
    "# X_budg = numpy.delete(poly.fit_transform(np.array(X_df[['budget']])), obj=0, axis=1) \n",
    "# X_budg_test = numpy.delete(poly.transform(np.array(X_test_df[['budget']])), obj=0, axis=1) "
   ]
  },
  {
   "cell_type": "markdown",
   "metadata": {
    "heading_collapsed": true,
    "hidden": true
   },
   "source": [
    "### Make label double type"
   ]
  },
  {
   "cell_type": "code",
   "execution_count": 21,
   "metadata": {
    "hidden": true
   },
   "outputs": [],
   "source": [
    "# had to run this line to avoid an illegal argument error, not entirely sure why...\n",
    "train_pack = train_pack.withColumn(\"label\", train_pack.label.cast(DoubleType()))\n",
    "test_pack = test_pack.withColumn(\"label\", test_pack.label.cast(DoubleType()))"
   ]
  },
  {
   "cell_type": "markdown",
   "metadata": {},
   "source": [
    "# Modelling"
   ]
  },
  {
   "cell_type": "markdown",
   "metadata": {
    "heading_collapsed": true
   },
   "source": [
    "## Gradient boosted trees"
   ]
  },
  {
   "cell_type": "markdown",
   "metadata": {
    "heading_collapsed": true,
    "hidden": true
   },
   "source": [
    "### Working model"
   ]
  },
  {
   "cell_type": "code",
   "execution_count": 22,
   "metadata": {
    "hidden": true
   },
   "outputs": [],
   "source": [
    "gbt = GBTClassifier(maxDepth=3,\n",
    "                    labelCol='label', \n",
    "                    featuresCol='features',\n",
    "                    predictionCol='prediction')\n",
    "\n",
    "gbt_model = gbt.fit(train_pack)\n",
    "gbt_pred = gbt_model.transform(test_pack)"
   ]
  },
  {
   "cell_type": "code",
   "execution_count": 23,
   "metadata": {
    "hidden": true
   },
   "outputs": [
    {
     "name": "stdout",
     "output_type": "stream",
     "text": [
      "+-----+--------------------+--------------------+--------------------+--------------------+----------+\n",
      "|label|            features|     features_scaled|       rawPrediction|         probability|prediction|\n",
      "+-----+--------------------+--------------------+--------------------+--------------------+----------+\n",
      "|  0.0|[113.0,144.0,0.00...|[0.30769230769230...|[0.29455887802728...|[0.64316269237254...|       0.0|\n",
      "|  0.0|[113.0,18.0,1.0,1...|[0.30769230769230...|[0.40042326804153...|[0.69015553427641...|       0.0|\n",
      "|  0.0|[113.0,0.0,0.25,1...|[0.30769230769230...|[-0.0238244010916...|[0.48809005273920...|       1.0|\n",
      "|  0.0|[113.0,144.0,3.17...|[0.30769230769230...|[0.31329208905559...|[0.65171453206048...|       0.0|\n",
      "|  0.0|[113.0,6.0,1.0,1....|[0.30769230769230...|[-0.3010821584243...|[0.35384868842975...|       1.0|\n",
      "|  0.0|[113.0,144.0,0.00...|[0.30769230769230...|[-0.1514405803337...|[0.42485331103443...|       1.0|\n",
      "|  0.0|[113.0,0.0,0.25,1...|[0.30769230769230...|[-0.3948235752431...|[0.31224443807081...|       1.0|\n",
      "|  0.0|[113.0,104.0,0.01...|[0.30769230769230...|[-0.2008784099917...|[0.40089031828533...|       1.0|\n",
      "|  0.0|[113.0,22.0,0.005...|[0.30769230769230...|[-0.2782106291056...|[0.36437591518797...|       1.0|\n",
      "|  0.0|[113.0,10.0,1.0,4...|[0.30769230769230...|[0.40042326804153...|[0.69015553427641...|       0.0|\n",
      "|  0.0|[113.0,6.0,0.5,1....|[0.30769230769230...|[0.20883537783189...|[0.60292574802588...|       0.0|\n",
      "|  0.0|[113.0,6.0,0.0625...|[0.30769230769230...|[0.01710196468180...|[0.50855014878263...|       0.0|\n",
      "|  0.0|[113.0,4.0,1.0,1....|[0.30769230769230...|[-0.2867549110493...|[0.36042734679325...|       1.0|\n",
      "|  0.0|[113.0,8.0,0.5,1....|[0.30769230769230...|[-0.1029931281932...|[0.44868475133232...|       1.0|\n",
      "|  0.0|[113.0,28.0,1.0,1...|[0.30769230769230...|[0.01710196468180...|[0.50855014878263...|       0.0|\n",
      "|  0.0|[113.0,6.0,0.25,1...|[0.30769230769230...|[-0.3153880587315...|[0.34733457636266...|       1.0|\n",
      "|  0.0|[113.0,10.0,0.125...|[0.30769230769230...|[0.93764368056653...|[0.86706888466488...|       0.0|\n",
      "|  0.0|[113.0,76.0,6.103...|[0.30769230769230...|[0.52251313995787...|[0.73981866524391...|       0.0|\n",
      "|  0.0|[113.0,18.0,0.04,...|[0.30769230769230...|[-0.2005984622265...|[0.40102479992490...|       1.0|\n",
      "|  0.0|[113.0,12.0,0.25,...|[0.30769230769230...|[0.04064469258520...|[0.52031116290452...|       0.0|\n",
      "+-----+--------------------+--------------------+--------------------+--------------------+----------+\n",
      "only showing top 20 rows\n",
      "\n"
     ]
    }
   ],
   "source": [
    "gbt_pred.show()"
   ]
  },
  {
   "cell_type": "code",
   "execution_count": 24,
   "metadata": {
    "hidden": true
   },
   "outputs": [],
   "source": [
    "metric = MulticlassMetrics(gbt_pred[['prediction', 'label']].rdd)"
   ]
  },
  {
   "cell_type": "code",
   "execution_count": 25,
   "metadata": {
    "hidden": true
   },
   "outputs": [
    {
     "data": {
      "text/plain": [
       "array([[33715., 34949.],\n",
       "       [  577.,   411.]])"
      ]
     },
     "execution_count": 25,
     "metadata": {},
     "output_type": "execute_result"
    }
   ],
   "source": [
    "metric.confusionMatrix().toArray()"
   ]
  },
  {
   "cell_type": "code",
   "execution_count": 26,
   "metadata": {
    "hidden": true
   },
   "outputs": [
    {
     "data": {
      "text/plain": [
       "0.052274114774114776"
      ]
     },
     "execution_count": 26,
     "metadata": {},
     "output_type": "execute_result"
    }
   ],
   "source": [
    "metric.fMeasure(1.0, 2.0)"
   ]
  },
  {
   "cell_type": "code",
   "execution_count": 27,
   "metadata": {
    "hidden": true
   },
   "outputs": [
    {
     "data": {
      "text/plain": [
       "0.42"
      ]
     },
     "execution_count": 27,
     "metadata": {},
     "output_type": "execute_result"
    }
   ],
   "source": [
    "round(metric.recall(1.0), 2)"
   ]
  },
  {
   "cell_type": "code",
   "execution_count": 28,
   "metadata": {
    "hidden": true
   },
   "outputs": [
    {
     "data": {
      "text/plain": [
       "0.4899500373284328"
      ]
     },
     "execution_count": 28,
     "metadata": {},
     "output_type": "execute_result"
    }
   ],
   "source": [
    "metric.accuracy"
   ]
  },
  {
   "cell_type": "markdown",
   "metadata": {
    "heading_collapsed": true,
    "hidden": true
   },
   "source": [
    "### Playing with the beta parameter"
   ]
  },
  {
   "cell_type": "code",
   "execution_count": 29,
   "metadata": {
    "hidden": true
   },
   "outputs": [],
   "source": [
    "betas = [1.0, 2.0, 4.0, 8.0]"
   ]
  },
  {
   "cell_type": "code",
   "execution_count": null,
   "metadata": {
    "hidden": true
   },
   "outputs": [],
   "source": []
  },
  {
   "cell_type": "code",
   "execution_count": null,
   "metadata": {
    "hidden": true
   },
   "outputs": [],
   "source": []
  },
  {
   "cell_type": "code",
   "execution_count": null,
   "metadata": {
    "hidden": true
   },
   "outputs": [],
   "source": []
  },
  {
   "cell_type": "markdown",
   "metadata": {
    "heading_collapsed": true,
    "hidden": true
   },
   "source": [
    "### Tuning max depth"
   ]
  },
  {
   "cell_type": "code",
   "execution_count": 30,
   "metadata": {
    "hidden": true
   },
   "outputs": [],
   "source": [
    "depths = [None, 2, 4, 6, 8]"
   ]
  },
  {
   "cell_type": "code",
   "execution_count": 31,
   "metadata": {
    "hidden": true
   },
   "outputs": [],
   "source": [
    "# for depth in depths:\n",
    "#     gbt = GBTClassifier(maxDepth=depth,\n",
    "#                     labelCol='label', \n",
    "#                     featuresCol='features',\n",
    "#                     predictionCol='prediction')\n",
    "\n",
    "#     gbt_model = gbt.fit(train_pack)\n",
    "#     gbt_pred = gbt_model.transform(test_pack)\n",
    "    \n",
    "#     metric = MulticlassMetrics(gbt_pred[['prediction', 'label']].rdd)\n",
    "    \n",
    "#     print(f'''Depth: {depth}, \n",
    "#               Accuracy: {round(metric.accuracy, 3)}, \n",
    "#               Recall: {round(metric.recall(1.0), 3)}, \n",
    "#               f_beta: {round(metric.fMeasure(1.0, 2.0), 2)}''')"
   ]
  },
  {
   "cell_type": "markdown",
   "metadata": {
    "hidden": true
   },
   "source": [
    "Conclusion: model isnt very good but definitely worth having a max depth otherwise the model just fits to predict everything is non-ransomware"
   ]
  },
  {
   "cell_type": "markdown",
   "metadata": {
    "heading_collapsed": true,
    "hidden": true
   },
   "source": [
    "### Tuning step size"
   ]
  },
  {
   "cell_type": "code",
   "execution_count": 32,
   "metadata": {
    "hidden": true
   },
   "outputs": [],
   "source": [
    "step_sizes = [0.001, 0.01, 0.1, 1.0]"
   ]
  },
  {
   "cell_type": "code",
   "execution_count": 33,
   "metadata": {
    "hidden": true
   },
   "outputs": [],
   "source": [
    "# for step_size in step_sizes:\n",
    "#     gbt = GBTClassifier(maxDepth=4,\n",
    "#                         stepSize=step_size,\n",
    "#                         labelCol='label', \n",
    "#                         featuresCol='features',\n",
    "#                         predictionCol='prediction')\n",
    "\n",
    "#     gbt_model = gbt.fit(train_pack)\n",
    "#     gbt_pred = gbt_model.transform(test_pack)\n",
    "    \n",
    "#     metric = MulticlassMetrics(gbt_pred[['prediction', 'label']].rdd)\n",
    "    \n",
    "#     print(f'''Step size: {step_size}: \n",
    "#               Accuracy: {round(metric.accuracy, 3)}, \n",
    "#               Recall: {round(metric.recall(1.0), 3)}, \n",
    "#               f_beta: {round(metric.fMeasure(1.0, 2.0), 2)}''')"
   ]
  },
  {
   "cell_type": "markdown",
   "metadata": {
    "hidden": true
   },
   "source": [
    "Conclusion: "
   ]
  },
  {
   "cell_type": "markdown",
   "metadata": {
    "heading_collapsed": true,
    "hidden": true
   },
   "source": [
    "### Tuning max bins"
   ]
  },
  {
   "cell_type": "code",
   "execution_count": 34,
   "metadata": {
    "hidden": true
   },
   "outputs": [],
   "source": [
    "bin_sizes = [4, 8, 16, 32, 64]"
   ]
  },
  {
   "cell_type": "code",
   "execution_count": 35,
   "metadata": {
    "hidden": true
   },
   "outputs": [],
   "source": [
    "# for bin_size in bin_sizes:\n",
    "#     gbt = GBTClassifier(maxDepth=4,\n",
    "#                         maxBins=bin_size,\n",
    "#                         labelCol='label', \n",
    "#                         featuresCol='features',\n",
    "#                         predictionCol='prediction')\n",
    "\n",
    "#     gbt_model = gbt.fit(train_pack)\n",
    "#     gbt_pred = gbt_model.transform(test_pack)\n",
    "    \n",
    "#     metric = MulticlassMetrics(gbt_pred[['prediction', 'label']].rdd)\n",
    "    \n",
    "#     print(f'''Max bins: {bin_size}: \n",
    "#               Accuracy: {round(metric.accuracy, 3)}, \n",
    "#               Recall: {round(metric.recall(1.0), 3)}, \n",
    "#               f_beta: {round(metric.fMeasure(1.0, 2.0), 2)}''')"
   ]
  },
  {
   "cell_type": "markdown",
   "metadata": {
    "hidden": true
   },
   "source": [
    "Conclusion:"
   ]
  },
  {
   "cell_type": "markdown",
   "metadata": {
    "heading_collapsed": true,
    "hidden": true
   },
   "source": [
    "### Tuning max iterations"
   ]
  },
  {
   "cell_type": "code",
   "execution_count": 36,
   "metadata": {
    "hidden": true
   },
   "outputs": [],
   "source": [
    "iter_sizes = [4, 8, 16, 24, 32]"
   ]
  },
  {
   "cell_type": "code",
   "execution_count": 37,
   "metadata": {
    "hidden": true
   },
   "outputs": [],
   "source": [
    "# for iter_size in iter_sizes:\n",
    "#     gbt = GBTClassifier(maxDepth=4,\n",
    "#                         maxIter=iter_size,\n",
    "#                         labelCol='label', \n",
    "#                         featuresCol='features',\n",
    "#                         predictionCol='prediction')\n",
    "\n",
    "#     gbt_model = gbt.fit(train_pack)\n",
    "#     gbt_pred = gbt_model.transform(test_pack)\n",
    "    \n",
    "#     metric = MulticlassMetrics(gbt_pred[['prediction', 'label']].rdd)\n",
    "    \n",
    "#     print(f'''Max iterations: {iter_size}: \n",
    "#               Accuracy: {round(metric.accuracy, 3)}, \n",
    "#               Recall: {round(metric.recall(1.0), 3)}, \n",
    "#               f_beta: {round(metric.fMeasure(1.0, 2.0), 2)}''')"
   ]
  },
  {
   "cell_type": "markdown",
   "metadata": {
    "hidden": true
   },
   "source": [
    "Conclusion:"
   ]
  },
  {
   "cell_type": "markdown",
   "metadata": {
    "heading_collapsed": true
   },
   "source": [
    "## Model building"
   ]
  },
  {
   "cell_type": "code",
   "execution_count": 40,
   "metadata": {
    "hidden": true
   },
   "outputs": [],
   "source": [
    "# had to run this line to avoid an illegal argument error, not entirely sure why...\n",
    "train_pack = train_pack.withColumn(\"label\", train_pack.label.cast(DoubleType()))\n",
    "test_pack = test_pack.withColumn(\"label\", test_pack.label.cast(DoubleType()))"
   ]
  },
  {
   "cell_type": "code",
   "execution_count": 41,
   "metadata": {
    "hidden": true
   },
   "outputs": [],
   "source": [
    "## THIS ONE TAKES SOME TIME\n",
    "# logistic regression\n",
    "lr = LogisticRegression(labelCol='label', \n",
    "                        featuresCol='features_scaled',\n",
    "                        predictionCol='prediction')\n",
    "\n",
    "lr_model = lr.fit(train_pack)\n",
    "lr_pred = lr_model.transform(test_pack)\n",
    "\n",
    "\n",
    "# Decision Tree (depth = 2)\n",
    "dt = DecisionTreeClassifier(maxDepth=2, \n",
    "                            labelCol='label', \n",
    "                            featuresCol='features',\n",
    "                            predictionCol='prediction')\n",
    "\n",
    "dt_model = dt.fit(train_pack)\n",
    "dt_pred = dt_model.transform(test_pack)\n",
    "\n",
    "\n",
    "# Random Forest (depth = 2)\n",
    "rf = RandomForestClassifier(maxDepth=2, \n",
    "                            labelCol='label',\n",
    "                            featuresCol='features',\n",
    "                            predictionCol='prediction')\n",
    "\n",
    "rf_model = rf.fit(train_pack)\n",
    "rf_pred = rf_model.transform(test_pack)\n",
    "\n",
    "\n",
    "# Gradient Boosted Tree (depth = 2)\n",
    "gbt = GBTClassifier(maxDepth=2, \n",
    "                    labelCol='label', \n",
    "                    featuresCol='features',\n",
    "                    predictionCol='prediction')\n",
    "\n",
    "gbt_model = gbt.fit(train_pack)\n",
    "gbt_pred = gbt_model.transform(test_pack)\n",
    "\n",
    "\n",
    "# Gradient Boosted Tree (depth = 2)\n",
    "nb = NaiveBayes(labelCol='label', \n",
    "                    featuresCol='features',\n",
    "                    predictionCol='prediction')\n",
    "\n",
    "nb_model = nb.fit(train_pack)\n",
    "nb_pred = nb_model.transform(test_pack)"
   ]
  },
  {
   "cell_type": "markdown",
   "metadata": {
    "heading_collapsed": true
   },
   "source": [
    "## Model evaluation"
   ]
  },
  {
   "cell_type": "code",
   "execution_count": 42,
   "metadata": {
    "hidden": true
   },
   "outputs": [],
   "source": [
    "accuracy = MulticlassClassificationEvaluator(labelCol='label', \n",
    "                                             predictionCol='prediction',\n",
    "                                             metricName='accuracy')\n",
    "\n",
    "precision = MulticlassClassificationEvaluator(labelCol='label', \n",
    "                                              predictionCol='prediction',\n",
    "                                              metricName='weightedPrecision')\n",
    "\n",
    "recall = MulticlassClassificationEvaluator(labelCol='label', \n",
    "                                           predictionCol='prediction',\n",
    "                                           metricName='weightedRecall')\n",
    "\n",
    "f1 = MulticlassClassificationEvaluator(labelCol='label', \n",
    "                                       predictionCol='prediction',\n",
    "                                       metricName='f1')\n",
    "\n",
    "areaROC = BinaryClassificationEvaluator(labelCol='label',\n",
    "                                        rawPredictionCol='prediction',\n",
    "                                        metricName='areaUnderROC')"
   ]
  },
  {
   "cell_type": "code",
   "execution_count": 43,
   "metadata": {
    "hidden": true
   },
   "outputs": [],
   "source": [
    "# # CANT GET BETA PARAMETER TO WORK\n",
    "# f_beta = MulticlassClassificationEvaluator(labelCol='label', \n",
    "#                                        predictionCol='prediction',\n",
    "#                                        metricName='fMeasureByLabel')"
   ]
  },
  {
   "cell_type": "code",
   "execution_count": 44,
   "metadata": {
    "hidden": true
   },
   "outputs": [],
   "source": [
    "# the error metrics\n",
    "metrics = [accuracy, precision, recall, f1, areaROC]\n",
    "metric_labels = ['accuracy', 'precision', 'recall', 'f1', 'areaROC']\n",
    "\n",
    "# the predictions from each model\n",
    "predictions = [lr_pred, dt_pred, rf_pred, gbt_pred, nb_pred]\n",
    "predict_labels = ['LR', 'DT', 'RF', 'GBT', 'NB']"
   ]
  },
  {
   "cell_type": "code",
   "execution_count": 45,
   "metadata": {
    "hidden": true
   },
   "outputs": [],
   "source": [
    "# eval_list = list()\n",
    "\n",
    "# # for each model's predictions, calculate error metrics\n",
    "# # and add to a Pandas series\n",
    "# for pred in zip(predict_labels, predictions):\n",
    "#     name = pred[0]\n",
    "#     predict = pred[1]\n",
    "    \n",
    "#     metric_vals = pd.Series(dict([(x[0], x[1].evaluate(predict)) \n",
    "#                                  for x in zip(metric_labels, metrics)]),\n",
    "#                             name=name)\n",
    "#     eval_list.append(metric_vals)\n",
    "    \n",
    "# # combine all the series into a dataframe\n",
    "# eval_df = pd.concat(eval_list, axis=1).T\n",
    "# eval_df = eval_df[metric_labels]\n",
    "# eval_df"
   ]
  },
  {
   "cell_type": "markdown",
   "metadata": {
    "heading_collapsed": true
   },
   "source": [
    "## Model evaluation function"
   ]
  },
  {
   "cell_type": "code",
   "execution_count": 46,
   "metadata": {
    "hidden": true
   },
   "outputs": [],
   "source": [
    "def evaluate_model_predictions(prediction_list, prediction_labels):\n",
    "    \n",
    "    eval_list = list()\n",
    "\n",
    "    # for each model's predictions, calculate error metrics\n",
    "    # and add to a Pandas series\n",
    "    for pred in zip(prediction_labels, prediction_list):\n",
    "        name = pred[0]\n",
    "        predict = pred[1]\n",
    "\n",
    "        # here is where the prediction dataframe is converted to an rdd\n",
    "        predict_rdd = predict[['prediction', 'label']].rdd\n",
    "        b_metrics = BinaryClassificationMetrics(predict_rdd)\n",
    "        m_metrics = MulticlassMetrics(predict_rdd)\n",
    "\n",
    "        metric_vals = pd.Series({'accuracy'        : m_metrics.accuracy,\n",
    "                                 'precision'       : m_metrics.precision(0),\n",
    "                                 'recall'          : m_metrics.recall(0),\n",
    "                                 'f1'              : m_metrics.fMeasure(),\n",
    "                                 'areaROC'         : b_metrics.areaUnderROC,\n",
    "                                 'confusion matrix': (m_metrics.confusionMatrix()\n",
    "                                                      .toArray().astype('int'))},\n",
    "                                name=name)\n",
    "        eval_list.append(metric_vals)\n",
    "\n",
    "    # combine all the series into a dataframe\n",
    "    eval_df = pd.concat(eval_list, axis=1).T\n",
    "    \n",
    "    metric_labels = ['accuracy', 'precision', 'recall', 'f1', 'areaROC', 'confusion matrix']\n",
    "    eval_df = eval_df[metric_labels]\n",
    "    \n",
    "    return eval_df"
   ]
  },
  {
   "cell_type": "markdown",
   "metadata": {
    "heading_collapsed": true
   },
   "source": [
    "## Make a pipeline"
   ]
  },
  {
   "cell_type": "code",
   "execution_count": 47,
   "metadata": {
    "hidden": true
   },
   "outputs": [],
   "source": [
    "## NEED TO THINK ABOUT THE VALUE OF THIS, HOW IT WORKS AND HOW WE SHOULD CHANGE ALL OUR CODE TO USE IT EFFECTIVELY\n",
    "\n",
    "# # the pipline\n",
    "# pipeline = Pipeline(stages=[assembler, minmaxscale, lr]) \n",
    "\n",
    "# # fit and transform\n",
    "# lr_model2 = pipeline.fit(train_pack)\n",
    "# lr_pred2 = lr_model2.transform(test_pack)\n",
    "\n",
    "# # the results are the same for GBT as the second table above\n",
    "# evaluate_model_predictions([lr_pred2], ['LR'])"
   ]
  },
  {
   "cell_type": "markdown",
   "metadata": {
    "heading_collapsed": true
   },
   "source": [
    "## Cross validation and grid search"
   ]
  },
  {
   "cell_type": "code",
   "execution_count": 48,
   "metadata": {
    "hidden": true,
    "scrolled": false
   },
   "outputs": [],
   "source": [
    "# the GradientBoostedTree model\n",
    "gbt2 = GBTClassifier(featuresCol='features',\n",
    "                     labelCol='label', \n",
    "                     predictionCol='prediction')\n",
    " \n",
    "# the pipline\n",
    "pipeline = Pipeline(stages=[gbt2]) \n",
    "\n",
    "# the parameter grid--we'll optimize maxDepth and stepSize\n",
    "paramgrid = (ParamGridBuilder().addGrid(gbt2.maxDepth, [4,6])\n",
    "                               .addGrid(gbt2.stepSize, [0.001, 0.01, 0.1, 1.0]).build())\n",
    "\n",
    "# use f1 score as the evaluation metric for best model \n",
    "evaluator = MulticlassClassificationEvaluator(labelCol='label', \n",
    "                                              predictionCol='prediction', \n",
    "                                              metricName='f1') \n",
    "\n",
    "# use 3-fold cross validation \n",
    "crossval = CrossValidator(estimator=pipeline, \n",
    "                          estimatorParamMaps=paramgrid, \n",
    "                          evaluator=evaluator, \n",
    "                          numFolds=3) \n",
    "\n",
    "gbt2_model = crossval.fit(train_pack) "
   ]
  },
  {
   "cell_type": "code",
   "execution_count": 49,
   "metadata": {
    "hidden": true
   },
   "outputs": [],
   "source": [
    "# return the best pipeline based on f1 score\n",
    "best_pipeline = gbt2_model.bestModel\n",
    "\n",
    "# return the best GBT model, which is the first step of the pipeline\n",
    "best_gbt_model = best_pipeline.stages[0]\n"
   ]
  },
  {
   "cell_type": "code",
   "execution_count": 50,
   "metadata": {
    "hidden": true
   },
   "outputs": [
    {
     "data": {
      "text/plain": [
       "20"
      ]
     },
     "execution_count": 50,
     "metadata": {},
     "output_type": "execute_result"
    }
   ],
   "source": [
    "# how many trees were there?\n",
    "len(best_gbt_model.trees)\n"
   ]
  },
  {
   "cell_type": "code",
   "execution_count": 51,
   "metadata": {
    "hidden": true
   },
   "outputs": [
    {
     "data": {
      "text/plain": [
       "[DecisionTreeRegressionModel (uid=dtr_a625b23fdff7) of depth 6 with 127 nodes,\n",
       " DecisionTreeRegressionModel (uid=dtr_fc409a6ef577) of depth 6 with 127 nodes,\n",
       " DecisionTreeRegressionModel (uid=dtr_2d2cf35bf939) of depth 6 with 127 nodes,\n",
       " DecisionTreeRegressionModel (uid=dtr_08dace01da3c) of depth 6 with 125 nodes,\n",
       " DecisionTreeRegressionModel (uid=dtr_5209af544ea7) of depth 6 with 127 nodes]"
      ]
     },
     "execution_count": 51,
     "metadata": {},
     "output_type": "execute_result"
    }
   ],
   "source": [
    "# list some of the trees\n",
    "best_gbt_model.trees[:5]\n"
   ]
  },
  {
   "cell_type": "code",
   "execution_count": 52,
   "metadata": {
    "hidden": true
   },
   "outputs": [
    {
     "data": {
      "text/plain": [
       "[1.0, 1.0, 1.0, 1.0, 1.0]"
      ]
     },
     "execution_count": 52,
     "metadata": {},
     "output_type": "execute_result"
    }
   ],
   "source": [
    "# what were their weights in the GBT model?\n",
    "best_gbt_model.treeWeights[:5]"
   ]
  },
  {
   "cell_type": "code",
   "execution_count": 53,
   "metadata": {
    "hidden": true
   },
   "outputs": [
    {
     "data": {
      "text/plain": [
       "[6, 6, 6, 6, 6, 6, 6, 6, 6, 6, 6, 6, 6, 6, 6, 6, 6, 6, 6, 6]"
      ]
     },
     "execution_count": 53,
     "metadata": {},
     "output_type": "execute_result"
    }
   ],
   "source": [
    "# what was the best depth?\n",
    "[x.depth for x in best_gbt_model.trees]"
   ]
  },
  {
   "cell_type": "code",
   "execution_count": 54,
   "metadata": {
    "hidden": true
   },
   "outputs": [
    {
     "data": {
      "text/plain": [
       "looped       0.040669\n",
       "count        0.086100\n",
       "length       0.092691\n",
       "neighbors    0.112710\n",
       "weight       0.124369\n",
       "day          0.253003\n",
       "income       0.290458\n",
       "dtype: float64"
      ]
     },
     "execution_count": 54,
     "metadata": {},
     "output_type": "execute_result"
    }
   ],
   "source": [
    "# extract feature importances\n",
    "feature_importances = best_gbt_model.featureImportances.toArray()\n",
    "\n",
    "# extract feature names, except for the predictor\n",
    "feature_names = features\n",
    "\n",
    "feature_series = (pd.Series(dict(zip(feature_names, feature_importances)))\n",
    "                  .sort_values(ascending=True))\n",
    "\n",
    "feature_series"
   ]
  },
  {
   "cell_type": "code",
   "execution_count": 55,
   "metadata": {
    "hidden": true
   },
   "outputs": [
    {
     "data": {
      "image/png": "[encoded data removed]",
      "text/plain": [
       "<Figure size 432x288 with 1 Axes>"
      ]
     },
     "metadata": {},
     "output_type": "display_data"
    }
   ],
   "source": [
    "sns.set_palette('dark')\n",
    "sns.set_context('notebook')\n",
    "sns.set_style('white')\n",
    "\n",
    "ax = feature_series.plot(kind='barh')\n",
    "_ = ax.set(xlabel='Relative Importance', \n",
    "           ylabel='Features', \n",
    "           title='Feature Importances for Best GradientBoostedTree Model')\n",
    "\n",
    "fig = plt.gcf()\n",
    "\n",
    "# save to the folder shared with the AWS instance\n",
    "# this is the same folder as the notebook is executed from\n",
    "# so a path is not required\n",
    "# fig.savefig('img/feature_importances.pdf')"
   ]
  },
  {
   "cell_type": "markdown",
   "metadata": {
    "heading_collapsed": true
   },
   "source": [
    "## Measure against test data"
   ]
  },
  {
   "cell_type": "markdown",
   "metadata": {
    "heading_collapsed": true,
    "hidden": true
   },
   "source": [
    "### Initial evaluation"
   ]
  },
  {
   "cell_type": "code",
   "execution_count": 56,
   "metadata": {
    "hidden": true
   },
   "outputs": [],
   "source": [
    "gbt_pred_test = best_pipeline.transform(test_pack)"
   ]
  },
  {
   "cell_type": "code",
   "execution_count": 57,
   "metadata": {
    "hidden": true
   },
   "outputs": [
    {
     "data": {
      "text/html": [
       "<div>\n",
       "<style scoped>\n",
       "    .dataframe tbody tr th:only-of-type {\n",
       "        vertical-align: middle;\n",
       "    }\n",
       "\n",
       "    .dataframe tbody tr th {\n",
       "        vertical-align: top;\n",
       "    }\n",
       "\n",
       "    .dataframe thead th {\n",
       "        text-align: right;\n",
       "    }\n",
       "</style>\n",
       "<table border=\"1\" class=\"dataframe\">\n",
       "  <thead>\n",
       "    <tr style=\"text-align: right;\">\n",
       "      <th></th>\n",
       "      <th>accuracy</th>\n",
       "      <th>precision</th>\n",
       "      <th>recall</th>\n",
       "      <th>f1</th>\n",
       "      <th>areaROC</th>\n",
       "      <th>confusion matrix</th>\n",
       "    </tr>\n",
       "  </thead>\n",
       "  <tbody>\n",
       "    <tr>\n",
       "      <th>GBT_GridSearch</th>\n",
       "      <td>0.667432</td>\n",
       "      <td>0.986173</td>\n",
       "      <td>0.67207</td>\n",
       "      <td>0.667432</td>\n",
       "      <td>0.508606</td>\n",
       "      <td>[[46147, 22517], [647, 341]]</td>\n",
       "    </tr>\n",
       "  </tbody>\n",
       "</table>\n",
       "</div>"
      ],
      "text/plain": [
       "                accuracy precision   recall        f1   areaROC  \\\n",
       "GBT_GridSearch  0.667432  0.986173  0.67207  0.667432  0.508606   \n",
       "\n",
       "                            confusion matrix  \n",
       "GBT_GridSearch  [[46147, 22517], [647, 341]]  "
      ]
     },
     "execution_count": 57,
     "metadata": {},
     "output_type": "execute_result"
    }
   ],
   "source": [
    "evaluate_model_predictions([gbt_pred_test], ['GBT_GridSearch'])"
   ]
  },
  {
   "cell_type": "code",
   "execution_count": 58,
   "metadata": {
    "hidden": true
   },
   "outputs": [],
   "source": [
    "metric = MulticlassMetrics(gbt_pred_test[['prediction', 'label']].rdd)"
   ]
  },
  {
   "cell_type": "code",
   "execution_count": 59,
   "metadata": {
    "hidden": true
   },
   "outputs": [
    {
     "data": {
      "text/plain": [
       "array([[46147., 22517.],\n",
       "       [  647.,   341.]])"
      ]
     },
     "execution_count": 59,
     "metadata": {},
     "output_type": "execute_result"
    }
   ],
   "source": [
    "metric.confusionMatrix().toArray()"
   ]
  },
  {
   "cell_type": "code",
   "execution_count": 60,
   "metadata": {
    "hidden": true
   },
   "outputs": [
    {
     "data": {
      "text/plain": [
       "0.02860018451731947"
      ]
     },
     "execution_count": 60,
     "metadata": {},
     "output_type": "execute_result"
    }
   ],
   "source": [
    "metric.fMeasure(1.0, 1.0)"
   ]
  },
  {
   "cell_type": "code",
   "execution_count": 61,
   "metadata": {
    "hidden": true
   },
   "outputs": [
    {
     "data": {
      "text/plain": [
       "0.3451417004048583"
      ]
     },
     "execution_count": 61,
     "metadata": {},
     "output_type": "execute_result"
    }
   ],
   "source": [
    "metric.recall(1.0)"
   ]
  },
  {
   "cell_type": "code",
   "execution_count": 62,
   "metadata": {
    "hidden": true
   },
   "outputs": [
    {
     "data": {
      "text/plain": [
       "0.014918190567853706"
      ]
     },
     "execution_count": 62,
     "metadata": {},
     "output_type": "execute_result"
    }
   ],
   "source": [
    "metric.precision(1.0)"
   ]
  },
  {
   "cell_type": "code",
   "execution_count": 63,
   "metadata": {
    "hidden": true
   },
   "outputs": [
    {
     "data": {
      "text/plain": [
       "0.6674323781083099"
      ]
     },
     "execution_count": 63,
     "metadata": {},
     "output_type": "execute_result"
    }
   ],
   "source": [
    "metric.accuracy"
   ]
  }
 ],
 "metadata": {
  "kernelspec": {
   "display_name": "Python 3",
   "language": "python",
   "name": "python3"
  },
  "language_info": {
   "codemirror_mode": {
    "name": "ipython",
    "version": 3
   },
   "file_extension": ".py",
   "mimetype": "text/x-python",
   "name": "python",
   "nbconvert_exporter": "python",
   "pygments_lexer": "ipython3",
   "version": "3.7.6"
  }
 },
 "nbformat": 4,
 "nbformat_minor": 4
}
